{
 "cells": [
  {
   "cell_type": "code",
   "execution_count": 20,
   "id": "cdd0dd5e-4460-487d-a879-aa3278155cba",
   "metadata": {},
   "outputs": [],
   "source": [
    "import numpy as np\n",
    "import matplotlib.pyplot as plt\n",
    "import pandas as pd"
   ]
  },
  {
   "cell_type": "code",
   "execution_count": 21,
   "id": "1baf309c-084e-4fb2-940d-289db13f188b",
   "metadata": {},
   "outputs": [],
   "source": [
    "dataset = pd.read_csv('jml_penduduk_menurut_kelompok_umur_dan_jenis_kelamin2023.csv')"
   ]
  },
  {
   "cell_type": "code",
   "execution_count": 22,
   "id": "17ebc272-a38d-4ec1-843b-3b94a12fd5ef",
   "metadata": {},
   "outputs": [],
   "source": [
    "x = dataset.iloc[:, :-1].values\n",
    "y = dataset.iloc[:, -1].values"
   ]
  },
  {
   "cell_type": "code",
   "execution_count": 23,
   "id": "0058ae36-9e65-4884-8fee-85adbce45518",
   "metadata": {},
   "outputs": [
    {
     "name": "stdout",
     "output_type": "stream",
     "text": [
      "[['4/1/00' 11499.3 11012.6]\n",
      " ['5/9/01' 11237.6 10762.4]\n",
      " ['10/14/01' 11316.5 10746.7]\n",
      " ['15-19' 11419.7 10714.6]\n",
      " ['20-24' 11489.7 10871.1]\n",
      " ['25-29' 11509.1 10986.4]\n",
      " ['30-34' 11243.9 10845.1]\n",
      " ['35-39' 10834.1 10570.3]\n",
      " ['40-44' 10274.3 10130.8]\n",
      " ['45-49' 9544.2 9514.7]\n",
      " ['50-54' 8415.0 8450.9]\n",
      " ['55-59' 7133.3 7231.3]\n",
      " ['60-64' 5676.6 5813.7]\n",
      " ['65-69' 4183.9 4344.5]\n",
      " ['70-74' 2695.1 2920.6]\n",
      " ['75+' 2314.2 2993.5]\n",
      " ['Jumlah/Total' 140786.8 137909.4]\n",
      " [nan nan nan]\n",
      " ['Catatan' nan nan]\n",
      " ['Hasil Proyeksi Penduduk Indonesia 2020-2050 Hasil Sensus Penduduk 2020 (Pertengahan tahun/Juni)/<i>Indonesia Population Projection 2020-2050 Result of Population Census 2020 (mid year/June)\\xa0</i>'\n",
      "  nan nan]]\n"
     ]
    }
   ],
   "source": [
    "print(x)"
   ]
  },
  {
   "cell_type": "code",
   "execution_count": 24,
   "id": "e0497e38-8fc6-4a51-bc79-4112d94c4f68",
   "metadata": {},
   "outputs": [
    {
     "name": "stdout",
     "output_type": "stream",
     "text": [
      "[ 22511.8  22000.1  22063.2  22134.4  22360.9  22495.6  22089.   21404.5\n",
      "  20405.2  19058.9  16865.9  14364.6  11490.3   8528.4   5615.8   5307.7\n",
      " 278696.2      nan      nan      nan]\n"
     ]
    }
   ],
   "source": [
    "print(y)"
   ]
  },
  {
   "cell_type": "code",
   "execution_count": 25,
   "id": "df39191f-4599-41df-b180-1bf5c649e9d2",
   "metadata": {},
   "outputs": [],
   "source": [
    "from sklearn.impute import SimpleImputer\n",
    "imputer = SimpleImputer(missing_values=np.nan, strategy='mean')\n",
    "imputer.fit(x[:, 1:3])\n",
    "x[:, 1:3] = imputer.transform(x[:, 1:3])"
   ]
  },
  {
   "cell_type": "code",
   "execution_count": 26,
   "id": "47eea380-df53-4607-b1d3-08fd60ca52e1",
   "metadata": {},
   "outputs": [
    {
     "name": "stdout",
     "output_type": "stream",
     "text": [
      "[['4/1/00' 11499.3 11012.6]\n",
      " ['5/9/01' 11237.6 10762.4]\n",
      " ['10/14/01' 11316.5 10746.7]\n",
      " ['15-19' 11419.7 10714.6]\n",
      " ['20-24' 11489.7 10871.1]\n",
      " ['25-29' 11509.1 10986.4]\n",
      " ['30-34' 11243.9 10845.1]\n",
      " ['35-39' 10834.1 10570.3]\n",
      " ['40-44' 10274.3 10130.8]\n",
      " ['45-49' 9544.2 9514.7]\n",
      " ['50-54' 8415.0 8450.9]\n",
      " ['55-59' 7133.3 7231.3]\n",
      " ['60-64' 5676.6 5813.7]\n",
      " ['65-69' 4183.9 4344.5]\n",
      " ['70-74' 2695.1 2920.6]\n",
      " ['75+' 2314.2 2993.5]\n",
      " ['Jumlah/Total' 140786.8 137909.4]\n",
      " [nan 16563.135294117645 16224.623529411763]\n",
      " ['Catatan' 16563.135294117645 16224.623529411763]\n",
      " ['Hasil Proyeksi Penduduk Indonesia 2020-2050 Hasil Sensus Penduduk 2020 (Pertengahan tahun/Juni)/<i>Indonesia Population Projection 2020-2050 Result of Population Census 2020 (mid year/June)\\xa0</i>'\n",
      "  16563.135294117645 16224.623529411763]]\n"
     ]
    }
   ],
   "source": [
    "print(x)"
   ]
  },
  {
   "cell_type": "code",
   "execution_count": 27,
   "id": "2e3e61cf-10f9-4455-b3fc-158820f1ef09",
   "metadata": {},
   "outputs": [],
   "source": [
    "from sklearn.compose import ColumnTransformer\n",
    "from sklearn.preprocessing import OneHotEncoder\n",
    "ct = ColumnTransformer(transformers=[('encoder', OneHotEncoder(), [0])], remainder='passthrough')\n",
    "x = ct.fit_transform(x)"
   ]
  },
  {
   "cell_type": "code",
   "execution_count": 28,
   "id": "37ae9a53-32bf-4b6a-b8db-a219699991cf",
   "metadata": {},
   "outputs": [
    {
     "name": "stdout",
     "output_type": "stream",
     "text": [
      "<Compressed Sparse Row sparse matrix of dtype 'float64'\n",
      "\twith 60 stored elements and shape (20, 22)>\n",
      "  Coords\tValues\n",
      "  (0, 6)\t1.0\n",
      "  (0, 20)\t11499.3\n",
      "  (0, 21)\t11012.6\n",
      "  (1, 9)\t1.0\n",
      "  (1, 20)\t11237.6\n",
      "  (1, 21)\t10762.4\n",
      "  (2, 0)\t1.0\n",
      "  (2, 20)\t11316.5\n",
      "  (2, 21)\t10746.7\n",
      "  (3, 1)\t1.0\n",
      "  (3, 20)\t11419.7\n",
      "  (3, 21)\t10714.6\n",
      "  (4, 2)\t1.0\n",
      "  (4, 20)\t11489.7\n",
      "  (4, 21)\t10871.1\n",
      "  (5, 3)\t1.0\n",
      "  (5, 20)\t11509.1\n",
      "  (5, 21)\t10986.4\n",
      "  (6, 4)\t1.0\n",
      "  (6, 20)\t11243.9\n",
      "  (6, 21)\t10845.1\n",
      "  (7, 5)\t1.0\n",
      "  (7, 20)\t10834.1\n",
      "  (7, 21)\t10570.3\n",
      "  (8, 7)\t1.0\n",
      "  :\t:\n",
      "  (11, 21)\t7231.3\n",
      "  (12, 12)\t1.0\n",
      "  (12, 20)\t5676.6\n",
      "  (12, 21)\t5813.7\n",
      "  (13, 13)\t1.0\n",
      "  (13, 20)\t4183.9\n",
      "  (13, 21)\t4344.5\n",
      "  (14, 14)\t1.0\n",
      "  (14, 20)\t2695.1\n",
      "  (14, 21)\t2920.6\n",
      "  (15, 15)\t1.0\n",
      "  (15, 20)\t2314.2\n",
      "  (15, 21)\t2993.5\n",
      "  (16, 18)\t1.0\n",
      "  (16, 20)\t140786.8\n",
      "  (16, 21)\t137909.4\n",
      "  (17, 19)\t1.0\n",
      "  (17, 20)\t16563.135294117645\n",
      "  (17, 21)\t16224.623529411763\n",
      "  (18, 16)\t1.0\n",
      "  (18, 20)\t16563.135294117645\n",
      "  (18, 21)\t16224.623529411763\n",
      "  (19, 17)\t1.0\n",
      "  (19, 20)\t16563.135294117645\n",
      "  (19, 21)\t16224.623529411763\n"
     ]
    }
   ],
   "source": [
    "print(x)"
   ]
  },
  {
   "cell_type": "code",
   "execution_count": 29,
   "id": "c213f4c7-04e3-48fe-a79b-2999113b49da",
   "metadata": {},
   "outputs": [],
   "source": [
    "from sklearn.preprocessing import LabelEncoder\n",
    "le = LabelEncoder()\n",
    "y = le.fit_transform(y)"
   ]
  },
  {
   "cell_type": "code",
   "execution_count": 30,
   "id": "0420a464-3df2-4e89-baca-668142f27d7d",
   "metadata": {},
   "outputs": [
    {
     "name": "stdout",
     "output_type": "stream",
     "text": [
      "[15  9 10 12 13 14 11  8  7  6  5  4  3  2  1  0 16 17 17 17]\n"
     ]
    }
   ],
   "source": [
    "print(y)"
   ]
  },
  {
   "cell_type": "code",
   "execution_count": 31,
   "id": "71ef60a1-e1bd-4cbc-883a-33ffaef41136",
   "metadata": {},
   "outputs": [],
   "source": [
    "from sklearn.model_selection import train_test_split\n",
    "x_train, x_test, y_train, y_test = train_test_split(x, y, test_size=0.2, random_state=1)"
   ]
  },
  {
   "cell_type": "code",
   "execution_count": 32,
   "id": "4c340c15-840d-4262-91de-9ebf19516a17",
   "metadata": {},
   "outputs": [
    {
     "name": "stdout",
     "output_type": "stream",
     "text": [
      "<Compressed Sparse Row sparse matrix of dtype 'float64'\n",
      "\twith 48 stored elements and shape (16, 22)>\n",
      "  Coords\tValues\n",
      "  (0, 0)\t1.0\n",
      "  (0, 20)\t11316.5\n",
      "  (0, 21)\t10746.7\n",
      "  (1, 14)\t1.0\n",
      "  (1, 20)\t2695.1\n",
      "  (1, 21)\t2920.6\n",
      "  (2, 2)\t1.0\n",
      "  (2, 20)\t11489.7\n",
      "  (2, 21)\t10871.1\n",
      "  (3, 19)\t1.0\n",
      "  (3, 20)\t16563.135294117645\n",
      "  (3, 21)\t16224.623529411763\n",
      "  (4, 5)\t1.0\n",
      "  (4, 20)\t10834.1\n",
      "  (4, 21)\t10570.3\n",
      "  (5, 9)\t1.0\n",
      "  (5, 20)\t11237.6\n",
      "  (5, 21)\t10762.4\n",
      "  (6, 13)\t1.0\n",
      "  (6, 20)\t4183.9\n",
      "  (6, 21)\t4344.5\n",
      "  (7, 6)\t1.0\n",
      "  (7, 20)\t11499.3\n",
      "  (7, 21)\t11012.6\n",
      "  (8, 17)\t1.0\n",
      "  (8, 20)\t16563.135294117645\n",
      "  (8, 21)\t16224.623529411763\n",
      "  (9, 16)\t1.0\n",
      "  (9, 20)\t16563.135294117645\n",
      "  (9, 21)\t16224.623529411763\n",
      "  (10, 8)\t1.0\n",
      "  (10, 20)\t9544.2\n",
      "  (10, 21)\t9514.7\n",
      "  (11, 15)\t1.0\n",
      "  (11, 20)\t2314.2\n",
      "  (11, 21)\t2993.5\n",
      "  (12, 7)\t1.0\n",
      "  (12, 20)\t10274.3\n",
      "  (12, 21)\t10130.8\n",
      "  (13, 12)\t1.0\n",
      "  (13, 20)\t5676.6\n",
      "  (13, 21)\t5813.7\n",
      "  (14, 11)\t1.0\n",
      "  (14, 20)\t7133.3\n",
      "  (14, 21)\t7231.3\n",
      "  (15, 3)\t1.0\n",
      "  (15, 20)\t11509.1\n",
      "  (15, 21)\t10986.4\n"
     ]
    }
   ],
   "source": [
    "print(x_train)"
   ]
  },
  {
   "cell_type": "code",
   "execution_count": 33,
   "id": "0afefcbd-8ee5-48b7-997e-fd4e4a2558cc",
   "metadata": {},
   "outputs": [
    {
     "name": "stdout",
     "output_type": "stream",
     "text": [
      "<Compressed Sparse Row sparse matrix of dtype 'float64'\n",
      "\twith 12 stored elements and shape (4, 22)>\n",
      "  Coords\tValues\n",
      "  (0, 1)\t1.0\n",
      "  (0, 20)\t11419.7\n",
      "  (0, 21)\t10714.6\n",
      "  (1, 18)\t1.0\n",
      "  (1, 20)\t140786.8\n",
      "  (1, 21)\t137909.4\n",
      "  (2, 4)\t1.0\n",
      "  (2, 20)\t11243.9\n",
      "  (2, 21)\t10845.1\n",
      "  (3, 10)\t1.0\n",
      "  (3, 20)\t8415.0\n",
      "  (3, 21)\t8450.9\n"
     ]
    }
   ],
   "source": [
    "print(x_test)"
   ]
  },
  {
   "cell_type": "code",
   "execution_count": 34,
   "id": "b35e722d-8046-4e8d-ad2f-4a7822f79e2c",
   "metadata": {},
   "outputs": [
    {
     "name": "stdout",
     "output_type": "stream",
     "text": [
      "[10  1 13 17  8  9  2 15 17 17  6  0  7  3  4 14]\n"
     ]
    }
   ],
   "source": [
    "print(y_train)"
   ]
  },
  {
   "cell_type": "code",
   "execution_count": 35,
   "id": "6a631385-bb32-4fc1-bf22-d6c8eee283f6",
   "metadata": {},
   "outputs": [
    {
     "name": "stdout",
     "output_type": "stream",
     "text": [
      "[12 16 11  5]\n"
     ]
    }
   ],
   "source": [
    "print(y_test)"
   ]
  },
  {
   "cell_type": "code",
   "execution_count": 36,
   "id": "cc17cbcf-2c65-4eca-94d4-7edfaa13fedc",
   "metadata": {},
   "outputs": [],
   "source": [
    "from sklearn.preprocessing import StandardScaler\n",
    "sc = StandardScaler(with_mean=False)\n",
    "x_train = sc.fit_transform(x_train)\n",
    "x_test = sc.transform(x_test)"
   ]
  }
 ],
 "metadata": {
  "kernelspec": {
   "display_name": "Python 3 (ipykernel)",
   "language": "python",
   "name": "python3"
  },
  "language_info": {
   "codemirror_mode": {
    "name": "ipython",
    "version": 3
   },
   "file_extension": ".py",
   "mimetype": "text/x-python",
   "name": "python",
   "nbconvert_exporter": "python",
   "pygments_lexer": "ipython3",
   "version": "3.11.9"
  }
 },
 "nbformat": 4,
 "nbformat_minor": 5
}
